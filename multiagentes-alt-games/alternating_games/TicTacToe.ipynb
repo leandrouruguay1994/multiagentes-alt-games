{
 "cells": [
  {
   "cell_type": "code",
   "execution_count": 11,
   "metadata": {},
   "outputs": [],
   "source": [
    "from games.tictactoe.tictactoe import TicTacToe\n",
    "from agents.agent_random import RandomAgent\n",
    "from agents.minimax import MiniMax\n",
    "from agents.mcts import MonteCarloTreeSearch, MCTSNode\n",
    "from agents.counterfactualregret_t import CounterFactualRegret\n",
    "import numpy as np\n",
    "from collections import defaultdict"
   ]
  },
  {
   "cell_type": "code",
   "execution_count": 12,
   "metadata": {},
   "outputs": [],
   "source": [
    "game = TicTacToe(render_mode='')"
   ]
  },
  {
   "cell_type": "code",
   "execution_count": 3,
   "metadata": {},
   "outputs": [
    {
     "data": {
      "text/plain": [
       "{'X': <agents.agent_random.RandomAgent at 0x10c5e8b10>,\n",
       " 'O': <agents.agent_random.RandomAgent at 0x1121598d0>}"
      ]
     },
     "execution_count": 3,
     "metadata": {},
     "output_type": "execute_result"
    }
   ],
   "source": [
    "agents_rd = dict(map(lambda agent: (agent, RandomAgent(game=game, agent=agent)), game.agents))\n",
    "agents_rd"
   ]
  },
  {
   "cell_type": "code",
   "execution_count": 4,
   "metadata": {},
   "outputs": [
    {
     "name": "stdout",
     "output_type": "stream",
     "text": [
      "Player: X\n",
      "Board:\n",
      " .  .  . \n",
      " .  .  . \n",
      " .  .  . \n",
      "\n",
      "0.0\n",
      "Player: O\n",
      "Board:\n",
      " .  .  . \n",
      " X  .  . \n",
      " .  .  . \n",
      "\n",
      "-0.25\n",
      "Player: X\n",
      "Board:\n",
      " .  O  . \n",
      " X  .  . \n",
      " .  .  . \n",
      "\n",
      "0.0\n",
      "Player: O\n",
      "Board:\n",
      " .  O  . \n",
      " X  .  X \n",
      " .  .  . \n",
      "\n",
      "-0.125\n",
      "Player: X\n",
      "Board:\n",
      " .  O  . \n",
      " X  .  X \n",
      " O  .  . \n",
      "\n",
      "-0.25\n",
      "Player: O\n",
      "Board:\n",
      " X  O  . \n",
      " X  .  X \n",
      " O  .  . \n",
      "\n",
      "0.0\n",
      "Player: X\n",
      "Board:\n",
      " X  O  . \n",
      " X  .  X \n",
      " O  O  . \n",
      "\n",
      "0.0\n",
      "Player: O\n",
      "Board:\n",
      " X  O  X \n",
      " X  .  X \n",
      " O  O  . \n",
      "\n",
      "-0.125\n",
      "Player: X\n",
      "Board:\n",
      " X  O  X \n",
      " X  .  X \n",
      " O  O  O \n",
      "\n",
      "-1\n",
      "{'X': -1, 'O': 1}\n"
     ]
    }
   ],
   "source": [
    "game.reset()\n",
    "while not game.terminated():\n",
    "    game.render()\n",
    "    print(game.eval(game.agent_selection))\n",
    "    action = agents_rd[game.agent_selection].action()\n",
    "    game.step(action)\n",
    "game.render()\n",
    "print(game.eval(game.agent_selection))\n",
    "print(game.rewards)"
   ]
  },
  {
   "cell_type": "code",
   "execution_count": 13,
   "metadata": {},
   "outputs": [],
   "source": [
    "players = {}\n",
    "players[game.agents[0]] = MonteCarloTreeSearch(game=game, agent=game.agents[0], simulations=100)\n",
    "players[game.agents[1]] = MonteCarloTreeSearch(game=game, agent=game.agents[1], simulations=100)\n"
   ]
  },
  {
   "cell_type": "code",
   "execution_count": 5,
   "metadata": {},
   "outputs": [
    {
     "name": "stdout",
     "output_type": "stream",
     "text": [
      "Player: X\n",
      "Board:\n",
      " .  .  . \n",
      " .  .  . \n",
      " .  .  . \n",
      "\n",
      "[[0 0 0]\n",
      " [0 0 0]\n",
      " [0 0 0]]\n"
     ]
    },
    {
     "ename": "AttributeError",
     "evalue": "'CounterFactualRegret' object has no attribute 'mcts'",
     "output_type": "error",
     "traceback": [
      "\u001b[31m---------------------------------------------------------------------------\u001b[39m",
      "\u001b[31mAttributeError\u001b[39m                            Traceback (most recent call last)",
      "\u001b[36mCell\u001b[39m\u001b[36m \u001b[39m\u001b[32mIn[5]\u001b[39m\u001b[32m, line 4\u001b[39m\n\u001b[32m      2\u001b[39m game.render()\n\u001b[32m      3\u001b[39m \u001b[38;5;28mprint\u001b[39m(game.observe(game.agents[\u001b[32m0\u001b[39m]))\n\u001b[32m----> \u001b[39m\u001b[32m4\u001b[39m action, value = \u001b[43mplayers\u001b[49m\u001b[43m[\u001b[49m\u001b[43mgame\u001b[49m\u001b[43m.\u001b[49m\u001b[43magent_selection\u001b[49m\u001b[43m]\u001b[49m\u001b[43m.\u001b[49m\u001b[43mmcts\u001b[49m()\n\u001b[32m      5\u001b[39m \u001b[38;5;28mprint\u001b[39m(action)\n\u001b[32m      6\u001b[39m game.step(action)\n",
      "\u001b[31mAttributeError\u001b[39m: 'CounterFactualRegret' object has no attribute 'mcts'"
     ]
    }
   ],
   "source": [
    "game.reset()\n",
    "game.render()\n",
    "print(game.observe(game.agents[0]))\n",
    "action, value = players[game.agent_selection].mcts()\n",
    "print(action)\n",
    "game.step(action)\n",
    "game.render()\n",
    "print(game.observe(game.agents[1]))\n",
    "action = players[game.agent_selection].action()\n",
    "game.step(action)\n",
    "print(action, value)\n",
    "game.render()\n"
   ]
  },
  {
   "cell_type": "code",
   "execution_count": 14,
   "metadata": {},
   "outputs": [
    {
     "name": "stdout",
     "output_type": "stream",
     "text": [
      "Agent X average reward: 0.55 over 20 games\n",
      "Agent X rewards: [1, -1, -1, 0, 1, 1, -1, -1, 1, 1, 1, 1, 1, 1, 1, 1, 1, 1, 1, 1]\n",
      "Agent O average reward: -0.55 over 20 games\n",
      "Agent O rewards: [-1, 1, 1, 0, -1, -1, 1, 1, -1, -1, -1, -1, -1, -1, -1, -1, -1, -1, -1, -1]\n"
     ]
    }
   ],
   "source": [
    "values = defaultdict(list)\n",
    "N = 20\n",
    "for i in range(N):    \n",
    "    game.reset()\n",
    "    while not game.terminated():\n",
    "        agent = game.agent_selection\n",
    "        action = players[agent].action()\n",
    "        game.step(action)\n",
    "    for agent in game.agents:\n",
    "        values[agent].append(game.reward(agent))\n",
    "for agent in game.agents:\n",
    "    print(f\"Agent {agent} average reward: {np.mean(values[agent])} over {N} games\")\n",
    "    print(f\"Agent {agent} rewards: {values[agent]}\")"
   ]
  },
  {
   "cell_type": "code",
   "execution_count": 15,
   "metadata": {},
   "outputs": [],
   "source": [
    "from nbconvert import HTMLExporter\n",
    "import nbformat, os, time\n",
    "\n",
    "def save_notebook_to_html(notebook_path=f\"TicTacToe.ipynb\"):\n",
    "    \"\"\"Guarda el notebook como HTML\"\"\"\n",
    "    exporter = HTMLExporter()\n",
    "    notebook = nbformat.read(notebook_path, as_version=4)\n",
    "    html, _ = exporter.from_notebook_node(notebook)\n",
    "    \n",
    "    os.makedirs(\"notebook_exports\", exist_ok=True)\n",
    "    timestamp = time.strftime(\"%Y%m%d-%H%M%S\")\n",
    "    output_path = f\"notebook_exports/TicTacToe_MCTSvsMCTS_100both_{timestamp}.html\"\n",
    "    \n",
    "    with open(output_path, \"w\") as f:\n",
    "        f.write(html)\n",
    "    \n",
    "    return output_path"
   ]
  },
  {
   "cell_type": "code",
   "execution_count": 16,
   "metadata": {},
   "outputs": [
    {
     "data": {
      "text/plain": [
       "'notebook_exports/TicTacToe_MCTSvsMCTS_100both_20250630-205518.html'"
      ]
     },
     "execution_count": 16,
     "metadata": {},
     "output_type": "execute_result"
    }
   ],
   "source": [
    "save_notebook_to_html()"
   ]
  }
 ],
 "metadata": {
  "kernelspec": {
   "display_name": "pettingzoo_games",
   "language": "python",
   "name": "python3"
  },
  "language_info": {
   "codemirror_mode": {
    "name": "ipython",
    "version": 3
   },
   "file_extension": ".py",
   "mimetype": "text/x-python",
   "name": "python",
   "nbconvert_exporter": "python",
   "pygments_lexer": "ipython3",
   "version": "3.11.11"
  },
  "orig_nbformat": 4
 },
 "nbformat": 4,
 "nbformat_minor": 2
}

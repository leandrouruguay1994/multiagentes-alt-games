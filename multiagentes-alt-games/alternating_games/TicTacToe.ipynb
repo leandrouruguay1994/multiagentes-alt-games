{
 "cells": [
  {
   "cell_type": "code",
   "execution_count": 1,
   "metadata": {},
   "outputs": [],
   "source": [
    "from games.tictactoe.tictactoe import TicTacToe\n",
    "from agents.agent_random import RandomAgent\n",
    "from agents.minimax import MiniMax\n",
    "from agents.mcts import MonteCarloTreeSearch, MCTSNode\n",
    "from agents.counterfactualregret_t import CounterFactualRegret\n",
    "import numpy as np\n",
    "from collections import defaultdict"
   ]
  },
  {
   "cell_type": "code",
   "execution_count": 2,
   "metadata": {},
   "outputs": [],
   "source": [
    "game = TicTacToe(render_mode='')"
   ]
  },
  {
   "cell_type": "code",
   "execution_count": 3,
   "metadata": {},
   "outputs": [
    {
     "data": {
      "text/plain": [
       "{'X': <agents.agent_random.RandomAgent at 0x10c5e8b10>,\n",
       " 'O': <agents.agent_random.RandomAgent at 0x1121598d0>}"
      ]
     },
     "execution_count": 3,
     "metadata": {},
     "output_type": "execute_result"
    }
   ],
   "source": [
    "agents_rd = dict(map(lambda agent: (agent, RandomAgent(game=game, agent=agent)), game.agents))\n",
    "agents_rd"
   ]
  },
  {
   "cell_type": "code",
   "execution_count": 4,
   "metadata": {},
   "outputs": [
    {
     "name": "stdout",
     "output_type": "stream",
     "text": [
      "Player: X\n",
      "Board:\n",
      " .  .  . \n",
      " .  .  . \n",
      " .  .  . \n",
      "\n",
      "0.0\n",
      "Player: O\n",
      "Board:\n",
      " .  .  . \n",
      " X  .  . \n",
      " .  .  . \n",
      "\n",
      "-0.25\n",
      "Player: X\n",
      "Board:\n",
      " .  O  . \n",
      " X  .  . \n",
      " .  .  . \n",
      "\n",
      "0.0\n",
      "Player: O\n",
      "Board:\n",
      " .  O  . \n",
      " X  .  X \n",
      " .  .  . \n",
      "\n",
      "-0.125\n",
      "Player: X\n",
      "Board:\n",
      " .  O  . \n",
      " X  .  X \n",
      " O  .  . \n",
      "\n",
      "-0.25\n",
      "Player: O\n",
      "Board:\n",
      " X  O  . \n",
      " X  .  X \n",
      " O  .  . \n",
      "\n",
      "0.0\n",
      "Player: X\n",
      "Board:\n",
      " X  O  . \n",
      " X  .  X \n",
      " O  O  . \n",
      "\n",
      "0.0\n",
      "Player: O\n",
      "Board:\n",
      " X  O  X \n",
      " X  .  X \n",
      " O  O  . \n",
      "\n",
      "-0.125\n",
      "Player: X\n",
      "Board:\n",
      " X  O  X \n",
      " X  .  X \n",
      " O  O  O \n",
      "\n",
      "-1\n",
      "{'X': -1, 'O': 1}\n"
     ]
    }
   ],
   "source": [
    "game.reset()\n",
    "while not game.terminated():\n",
    "    game.render()\n",
    "    print(game.eval(game.agent_selection))\n",
    "    action = agents_rd[game.agent_selection].action()\n",
    "    game.step(action)\n",
    "game.render()\n",
    "print(game.eval(game.agent_selection))\n",
    "print(game.rewards)"
   ]
  },
  {
   "cell_type": "code",
   "execution_count": 3,
   "metadata": {},
   "outputs": [],
   "source": [
    "players = {}\n",
    "#players[game.agents[0]] = MonteCarloTreeSearch(game=game, agent=game.agents[0], simulations=100)\n",
    "#players[game.agents[0]] = MiniMax(game=game, agent=game.agents[0], depth=3)\n",
    "players[game.agents[0]] = RandomAgent(game=game, agent=game.agents[0])\n",
    "players[game.agents[1]] = MonteCarloTreeSearch(game=game, agent=game.agents[1], simulations=500)\n"
   ]
  },
  {
   "cell_type": "code",
   "execution_count": 4,
   "metadata": {},
   "outputs": [
    {
     "name": "stdout",
     "output_type": "stream",
     "text": [
      "Player: X\n",
      "Board:\n",
      " .  .  . \n",
      " .  .  . \n",
      " .  .  . \n",
      "\n",
      "[[0 0 0]\n",
      " [0 0 0]\n",
      " [0 0 0]]\n",
      "0\n",
      "Player: O\n",
      "Board:\n",
      " X  .  . \n",
      " .  .  . \n",
      " .  .  . \n",
      "\n",
      "[[2 0 0]\n",
      " [0 0 0]\n",
      " [0 0 0]]\n",
      "4 -0.06956521739130433\n",
      "Player: X\n",
      "Board:\n",
      " X  .  . \n",
      " .  O  . \n",
      " .  .  . \n",
      "\n"
     ]
    }
   ],
   "source": [
    "game.reset()\n",
    "game.render()\n",
    "print(game.observe(game.agents[0]))\n",
    "action = players[game.agent_selection].action()\n",
    "print(action)\n",
    "game.step(action)\n",
    "game.render()\n",
    "print(game.observe(game.agents[1]))\n",
    "action, value = players[game.agent_selection].mcts()\n",
    "game.step(action)\n",
    "print(action, value)\n",
    "game.render()\n"
   ]
  },
  {
   "cell_type": "code",
   "execution_count": 5,
   "metadata": {},
   "outputs": [
    {
     "name": "stdout",
     "output_type": "stream",
     "text": [
      "Agent X average reward: -0.78 over 50 games\n",
      "Agent X rewards: [-1, 1, 1, -1, -1, -1, -1, -1, 0, -1, -1, -1, -1, -1, -1, -1, -1, -1, -1, -1, -1, -1, -1, -1, -1, -1, -1, -1, 1, -1, 1, 0, -1, -1, -1, -1, -1, -1, 0, -1, -1, -1, -1, -1, -1, -1, -1, -1, -1, -1]\n",
      "Agent X win rate: 4 over 50 games\n",
      "Agent O average reward: 0.78 over 50 games\n",
      "Agent O rewards: [1, -1, -1, 1, 1, 1, 1, 1, 0, 1, 1, 1, 1, 1, 1, 1, 1, 1, 1, 1, 1, 1, 1, 1, 1, 1, 1, 1, -1, 1, -1, 0, 1, 1, 1, 1, 1, 1, 0, 1, 1, 1, 1, 1, 1, 1, 1, 1, 1, 1]\n",
      "Agent O win rate: 43 over 50 games\n"
     ]
    }
   ],
   "source": [
    "values = defaultdict(list)\n",
    "N = 50\n",
    "for i in range(N):    \n",
    "    game.reset()\n",
    "    while not game.terminated():\n",
    "        agent = game.agent_selection\n",
    "        action = players[agent].action()\n",
    "        game.step(action)\n",
    "    for agent in game.agents:\n",
    "        values[agent].append(game.reward(agent))\n",
    "for agent in game.agents:\n",
    "    print(f\"Agent {agent} average reward: {np.mean(values[agent])} over {N} games\")\n",
    "    print(f\"Agent {agent} rewards: {values[agent]}\")\n",
    "    print(f\"Agent {agent} win rate: {np.sum(np.array(values[agent]) > 0)} over {N} games\")"
   ]
  },
  {
   "cell_type": "code",
   "execution_count": 23,
   "metadata": {},
   "outputs": [],
   "source": [
    "from nbconvert import HTMLExporter\n",
    "import nbformat, os, time\n",
    "\n",
    "def save_notebook_to_html(notebook_path=f\"TicTacToe.ipynb\"):\n",
    "    \"\"\"Guarda el notebook como HTML\"\"\"\n",
    "    exporter = HTMLExporter()\n",
    "    notebook = nbformat.read(notebook_path, as_version=4)\n",
    "    html, _ = exporter.from_notebook_node(notebook)\n",
    "    \n",
    "    os.makedirs(\"notebook_exports\", exist_ok=True)\n",
    "    timestamp = time.strftime(\"%Y%m%d-%H%M%S\")\n",
    "    output_path = f\"notebook_exports/TicTacToe_MiniMax_depth3_vs_MCTS_100sim_{timestamp}.html\"\n",
    "    \n",
    "    with open(output_path, \"w\") as f:\n",
    "        f.write(html)\n",
    "    \n",
    "    return output_path"
   ]
  },
  {
   "cell_type": "code",
   "execution_count": 24,
   "metadata": {},
   "outputs": [
    {
     "data": {
      "text/plain": [
       "'notebook_exports/TicTacToe_MiniMax_depth3_vs_MCTS_100sim_20250701-092509.html'"
      ]
     },
     "execution_count": 24,
     "metadata": {},
     "output_type": "execute_result"
    }
   ],
   "source": [
    "save_notebook_to_html()"
   ]
  }
 ],
 "metadata": {
  "kernelspec": {
   "display_name": "pettingzoo_games",
   "language": "python",
   "name": "python3"
  },
  "language_info": {
   "codemirror_mode": {
    "name": "ipython",
    "version": 3
   },
   "file_extension": ".py",
   "mimetype": "text/x-python",
   "name": "python",
   "nbconvert_exporter": "python",
   "pygments_lexer": "ipython3",
   "version": "3.11.11"
  },
  "orig_nbformat": 4
 },
 "nbformat": 4,
 "nbformat_minor": 2
}
